{
 "cells": [
  {
   "cell_type": "code",
   "execution_count": 1,
   "metadata": {},
   "outputs": [],
   "source": [
    "from main import *"
   ]
  },
  {
   "cell_type": "code",
   "execution_count": 5,
   "metadata": {},
   "outputs": [
    {
     "name": "stdout",
     "output_type": "stream",
     "text": [
      "Epoch: 1, loss: 0.73321, Train accuracy: 0.56647, Test accuracy: 0.63393\n",
      "Epoch: 2, loss: 0.40702, Train accuracy: 0.65808, Test accuracy: 0.71061\n",
      "Epoch: 3, loss: 0.26160, Train accuracy: 0.70800, Test accuracy: 0.73792\n",
      "Epoch: 4, loss: 0.36172, Train accuracy: 0.73726, Test accuracy: 0.74055\n",
      "Epoch: 5, loss: 0.25009, Train accuracy: 0.77229, Test accuracy: 0.73162\n",
      "Epoch: 6, loss: 0.24093, Train accuracy: 0.78981, Test accuracy: 0.72637\n",
      "Epoch: 7, loss: 0.25074, Train accuracy: 0.80504, Test accuracy: 0.70851\n",
      "Epoch: 8, loss: 0.04685, Train accuracy: 0.80802, Test accuracy: 0.70956\n",
      "Epoch: 9, loss: 0.20656, Train accuracy: 0.82554, Test accuracy: 0.71166\n",
      "Epoch: 10, loss: 0.15579, Train accuracy: 0.83219, Test accuracy: 0.74160\n"
     ]
    }
   ],
   "source": [
    "controller = Controller()"
   ]
  }
 ],
 "metadata": {
  "kernelspec": {
   "display_name": "Python 3",
   "language": "python",
   "name": "python3"
  },
  "language_info": {
   "codemirror_mode": {
    "name": "ipython",
    "version": 3
   },
   "file_extension": ".py",
   "mimetype": "text/x-python",
   "name": "python",
   "nbconvert_exporter": "python",
   "pygments_lexer": "ipython3",
   "version": "3.8.5"
  }
 },
 "nbformat": 4,
 "nbformat_minor": 4
}
